{
  "nbformat": 4,
  "nbformat_minor": 0,
  "metadata": {
    "colab": {
      "provenance": []
    },
    "kernelspec": {
      "name": "python3",
      "display_name": "Python 3"
    },
    "language_info": {
      "name": "python"
    }
  },
  "cells": [
    {
      "cell_type": "code",
      "source": [
        "Flex input file\n",
        "/* This is the flex files that defines the Non terminal members */\n",
        "%{\n",
        "    #include \"parser.tab.h\"\n",
        "%}\n",
        "\n",
        "/*Non terminal members*/\n",
        "%%\n",
        "\n",
        "[0-9]+ {yylval.num = atoi(yytext);return NUMBER;}\n",
        "\"+\" {return PLUS;}\n",
        "\"-\" {return MINUS;}\n",
        "\"*\" {return MULTIPLY;}\n",
        "\"/\" {return DIVIDE;}\n",
        "\\n {return EOL;}\n",
        "\n",
        "%%"
      ],
      "metadata": {
        "id": "CcjaH1nhIEtV"
      },
      "execution_count": null,
      "outputs": []
    },
    {
      "cell_type": "code",
      "execution_count": null,
      "metadata": {
        "id": "6EuukgTBIB_p"
      },
      "outputs": [],
      "source": [
        "Bison parser file\n",
        "/* This is the parser that will result in expressions for the calculator i.e 1 + 2 or 3 / 3 No form of precedence has been coded in this example*/\n",
        "%{\n",
        "\n",
        "%}\n",
        "\n",
        "/*All posible data types*/\n",
        "%union{\n",
        "    int num;\n",
        "}\n",
        "\n",
        "/*Non terminal*/\n",
        "%token EOL\n",
        "%token<num> NUMBER\n",
        "%token PLUS MINUS MULTIPLY DIVIDE \n",
        "%type<num> exp\n",
        "\n",
        "/*Rules of production*/\n",
        "%%\n",
        "\n",
        "input:\n",
        "| line input \n",
        ";\n",
        "\n",
        "line:  exp EOL {printf(\"Number : %d\\n\",$1);}\n",
        "|       EOL;\n",
        "exp: \n",
        "    NUMBER {$$ = $1;}\n",
        "|   exp PLUS exp{$$ = $1 + $3;}\n",
        "|   exp MINUS exp{$$ = $1 - $3;}\n",
        "|   exp MULTIPLY exp{$$ = $1 * $3;}\n",
        "|   exp DIVIDE exp{$$ = $1 / $3;}\n",
        "; \n",
        "\n",
        "%%\n",
        "\n",
        "int main(){\n",
        "    yyparse();\n",
        "\n",
        "    return 0;\n",
        "}\n",
        "\n",
        "yyerror(char* s){\n",
        "    printf(\"ERROR: %s\\n\",s);\n",
        "\n",
        "    return 0;\n",
        "}"
      ]
    }
  ]
}