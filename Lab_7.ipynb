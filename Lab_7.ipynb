{
  "nbformat": 4,
  "nbformat_minor": 0,
  "metadata": {
    "colab": {
      "provenance": []
    },
    "kernelspec": {
      "name": "python3",
      "display_name": "Python 3"
    },
    "language_info": {
      "name": "python"
    }
  },
  "cells": [
    {
      "cell_type": "markdown",
      "source": [
        "1. Write three address code for the following:\n",
        "\n",
        "(a) Three address code for an if statement\n",
        "\n",
        "Statement : if A < B and C > D then t = 0 else t = 1\n",
        " \n",
        "LI : if (A < B) goto L3\n",
        "\n",
        "L2 : goto L4\n",
        "\n",
        "L3 : if (C > D) goto L6 \n",
        "\n",
        "L4 : t = 1\n",
        "\n",
        "L5 : goto L7\n",
        "\n",
        "L6 : t = 0\n",
        "\n",
        "L7 : nop\n",
        "\n",
        "(b) Three address code for a for loop\n",
        " \n",
        "Statement : for (j=0;j<10;j++) { t = 5 * j }\n",
        "\n",
        "L1 : j = 0\n",
        "\n",
        "L2 : if j < 10 goto L4\n",
        "\n",
        "L3 : goto L9\n",
        "\n",
        "L4 : t1 = 5 * 1\n",
        "\n",
        "L5 : t = t1\n",
        "\n",
        "L6 : t2 = j + 1\n",
        "\n",
        "L7 : j = t2\n",
        "\n",
        "L8 : goto L2\n",
        "\n",
        "L9 : nop\n",
        "\n",
        "(c) Three address code for a while loop\n",
        " \n",
        "Statement : i = 0; while ( i < 5 ) { y = 3 * i; i++; }\n",
        "\n",
        "L1 : i = 0\n",
        "\n",
        "L2 : if i < 10 goto L4\n",
        "\n",
        "L3 : goto L9\n",
        "\n",
        "L4 : t1 = 3 * 1\n",
        "\n",
        "L5 : y = t1\n",
        "\n",
        "L6 : t2 = i\n",
        "\n",
        "L7 : i = t2\n",
        "\n",
        "L8 : goto L2\n",
        "\n",
        "L9 : nop    \n",
        "\n",
        "\n",
        "\n",
        "\n"
      ],
      "metadata": {
        "id": "b7n9qzI6--QB"
      }
    }
  ]
}